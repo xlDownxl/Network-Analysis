{
 "cells": [
  {
   "cell_type": "code",
   "execution_count": 1,
   "metadata": {},
   "outputs": [],
   "source": [
    "import data\n",
    "\n",
    "import pandas as pd\n",
    "#import geopandas\n",
    "#from shapely.geometry import Point\n",
    "import matplotlib.pyplot as plt\n",
    "import numpy as np\n",
    "import networkx as nx\n",
    "\n",
    "from mpl_toolkits.basemap import Basemap"
   ]
  },
  {
   "cell_type": "code",
   "execution_count": 2,
   "metadata": {},
   "outputs": [
    {
     "name": "stderr",
     "output_type": "stream",
     "text": [
      "WARNING:root:Requests made without an app_token will be subject to strict throttling limits.\n"
     ]
    }
   ],
   "source": [
    "taxi = data.getPreprocessedData(20000)"
   ]
  },
  {
   "cell_type": "code",
   "execution_count": 8,
   "metadata": {},
   "outputs": [
    {
     "data": {
      "text/plain": [
       "dropoff_latitude     float64\n",
       "dropoff_longitude    float64\n",
       "fare_amount           object\n",
       "pickup_latitude      float64\n",
       "pickup_longitude     float64\n",
       "tip_amount            object\n",
       "tolls_amount          object\n",
       "total_amount          object\n",
       "trip_distance         object\n",
       "pickup_weekday         int64\n",
       "pickup_time           object\n",
       "dropoff_weekday        int64\n",
       "dropoff_time          object\n",
       "dtype: object"
      ]
     },
     "execution_count": 8,
     "metadata": {},
     "output_type": "execute_result"
    }
   ],
   "source": [
    "taxi.dtypes"
   ]
  },
  {
   "cell_type": "code",
   "execution_count": null,
   "metadata": {},
   "outputs": [],
   "source": [
    "taxi.dtypes"
   ]
  },
  {
   "cell_type": "code",
   "execution_count": null,
   "metadata": {},
   "outputs": [],
   "source": [
    "minLat = taxi[\"dropoff_latitude\"].min()\n",
    "maxLat = taxi[\"dropoff_latitude\"].max()\n",
    "minLon = taxi[\"dropoff_longitude\"].min()\n",
    "maxLon = taxi[\"dropoff_longitude\"].max()\n",
    "\n",
    "m1 = Basemap(projection='merc',\n",
    "             llcrnrlat=40.5,\n",
    "             urcrnrlat=41,\n",
    "             llcrnrlon=-74.5,\n",
    "             urcrnrlon=-73.5,\n",
    "             lat_ts=0,\n",
    "             resolution='c')"
   ]
  },
  {
   "cell_type": "code",
   "execution_count": null,
   "metadata": {},
   "outputs": [],
   "source": [
    "mxy = m1(taxi[\"dropoff_longitude\"].tolist(), taxi[\"dropoff_latitude\"].tolist())\n",
    "m1.scatter(mxy[0], mxy[1], s=1, c=\"#1292db\", lw=0, alpha=0.5, zorder=5)\n",
    "\n",
    "mxy2 = m1(taxi[\"pickup_longitude\"].tolist(), taxi[\"pickup_latitude\"].tolist())\n",
    "m1.scatter(mxy[0], mxy[1], s=1, c=\"#FF5733\", lw=0, alpha=0.5, zorder=5)"
   ]
  },
  {
   "cell_type": "code",
   "execution_count": null,
   "metadata": {},
   "outputs": [],
   "source": []
  },
  {
   "cell_type": "code",
   "execution_count": null,
   "metadata": {},
   "outputs": [],
   "source": []
  }
 ],
 "metadata": {
  "kernelspec": {
   "display_name": "Python 3",
   "language": "python",
   "name": "python3"
  },
  "language_info": {
   "codemirror_mode": {
    "name": "ipython",
    "version": 3
   },
   "file_extension": ".py",
   "mimetype": "text/x-python",
   "name": "python",
   "nbconvert_exporter": "python",
   "pygments_lexer": "ipython3",
   "version": "3.7.2"
  }
 },
 "nbformat": 4,
 "nbformat_minor": 2
}
