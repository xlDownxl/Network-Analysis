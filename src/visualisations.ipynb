{
 "cells": [
  {
   "cell_type": "code",
   "execution_count": 1,
   "metadata": {},
   "outputs": [],
   "source": [
    "import data\n",
    "\n",
    "import pandas as pd\n",
    "#import geopandas\n",
    "#from shapely.geometry import Point\n",
    "import matplotlib.pyplot as plt\n",
    "import numpy as np\n",
    "import networkx as nx\n",
    "\n",
    "from mpl_toolkits.basemap import Basemap"
   ]
  },
  {
   "cell_type": "code",
   "execution_count": 2,
   "metadata": {},
   "outputs": [
    {
     "name": "stderr",
     "output_type": "stream",
     "text": [
      "WARNING:root:Requests made without an app_token will be subject to strict throttling limits.\n"
     ]
    }
   ],
   "source": [
    "taxi = data.getPreprocessedData(200)"
   ]
  },
  {
   "cell_type": "code",
   "execution_count": 8,
   "metadata": {},
   "outputs": [],
   "source": [
    "minLatitude = taxi[[\"dropoff_latitude\", \"pickup_latitude\"]].min().min()\n",
    "maxLatitude = taxi[[\"dropoff_latitude\", \"pickup_latitude\"]].max().max()\n",
    "minLongitude = taxi[[\"dropoff_longitude\", \"pickup_longitude\"]].min().min()\n",
    "maxLongitude = taxi[[\"dropoff_longitude\", \"pickup_longitude\"]].max().max()"
   ]
  },
  {
   "cell_type": "code",
   "execution_count": 9,
   "metadata": {},
   "outputs": [],
   "source": [
    "nyMap = Basemap(\n",
    "    projection = \"mill\",\n",
    "    resolution = \"c\",\n",
    "    llcrnrlat = minLatitude,\n",
    "    urcrnrlat = maxLatitude,\n",
    "    llcrnrlon = minLongitude,\n",
    "    urcrnrlon = maxLongitude,\n",
    "    lat_ts = 0\n",
    ")"
   ]
  },
  {
   "cell_type": "code",
   "execution_count": 11,
   "metadata": {},
   "outputs": [
    {
     "data": {
      "text/plain": [
       "<matplotlib.collections.PathCollection at 0x7f8ee9bec518>"
      ]
     },
     "execution_count": 11,
     "metadata": {},
     "output_type": "execute_result"
    },
    {
     "data": {
      "image/png": "[encoded data removed]",
      "text/plain": [
       "<Figure size 432x288 with 1 Axes>"
      ]
     },
     "metadata": {},
     "output_type": "display_data"
    }
   ],
   "source": [
    "mxy = nyMap(taxi[\"dropoff_longitude\"].tolist(), taxi[\"dropoff_latitude\"].tolist())\n",
    "nyMap.scatter(mxy[0], mxy[1], s=10, c=\"#1292db\", lw=0, alpha=0.5, zorder=5)\n",
    "\n",
    "mxy2 = nyMap(taxi[\"pickup_longitude\"].tolist(), taxi[\"pickup_latitude\"].tolist())\n",
    "nyMap.scatter(mxy[0], mxy[1], s=10, c=\"#FF5733\", lw=0, alpha=0.5, zorder=5)"
   ]
  },
  {
   "cell_type": "code",
   "execution_count": null,
   "metadata": {},
   "outputs": [],
   "source": []
  },
  {
   "cell_type": "code",
   "execution_count": null,
   "metadata": {},
   "outputs": [],
   "source": []
  }
 ],
 "metadata": {
  "kernelspec": {
   "display_name": "Python 3",
   "language": "python",
   "name": "python3"
  },
  "language_info": {
   "codemirror_mode": {
    "name": "ipython",
    "version": 3
   },
   "file_extension": ".py",
   "mimetype": "text/x-python",
   "name": "python",
   "nbconvert_exporter": "python",
   "pygments_lexer": "ipython3",
   "version": "3.7.2"
  }
 },
 "nbformat": 4,
 "nbformat_minor": 2
}
